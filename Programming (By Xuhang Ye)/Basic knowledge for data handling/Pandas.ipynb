{
 "cells": [
  {
   "cell_type": "markdown",
   "metadata": {},
   "source": [
    "# Selflearning Pandas\n",
    "\n",
    "## Quick Overview of Pandas\n",
    "\n",
    "Pandas is an essential Python library in data science for data manipulation and analysis. It introduces two primary data structures:\n",
    "\n",
    "1. **DataFrame**: A 2D table, like an Excel spreadsheet. Ideal for handling structured data.\n",
    "2. **Series**: A 1D array, akin to a single column in a DataFrame.\n",
    "\n",
    "Pandas excels in:\n",
    "\n",
    "- **Data Import and Export**: Effortlessly read and write data from various sources.\n",
    "- **Data Cleaning**: Handling missing data and preparing datasets for analysis.\n",
    "- **Data Transformation**: Reshaping, merging, and slicing datasets.\n",
    "- **Analysis**: Providing tools for statistical analysis, grouping, and time-series data.\n",
    "\n",
    "## Advancing with Pandas\n",
    "\n",
    "Given your proficiency in Python and basic data analysis, we can move on to more advanced Pandas functionalities. Let's start with some key operations:\n",
    "\n",
    "1. **Data Exploration**: Methods like `.head()`, `.tail()`, `.describe()`, to quickly explore datasets.\n",
    "2. **Indexing and Selection**: Accessing specific subsets of data using loc and iloc.\n",
    "3. **Grouping and Aggregation**: Using `groupby` for aggregating data based on categories.\n",
    "4. **Pivot Tables**: Reshaping data for in-depth analysis.\n",
    "5. **Time-Series Analysis**: Handling dates and times, which is vital in many data analysis tasks."
   ]
  },
  {
   "cell_type": "code",
   "execution_count": 3,
   "metadata": {},
   "outputs": [
    {
     "name": "stdout",
     "output_type": "stream",
     "text": [
      "The first element of \"my_series\":  100\n",
      "The 'c' element of \"my_series\":  300\n"
     ]
    }
   ],
   "source": [
    "# Series in Pandas\n",
    "import pandas as pd\n",
    "import numpy as np\n",
    "\n",
    "my_array_1D = np.array([100, 200, 300])\n",
    "index = ['a', 'b', 'c']\n",
    "my_series = pd.Series(my_array_1D, index)\n",
    "\n",
    "print(\"The first element of \\\"my_series\\\": \", my_series.iloc[0])\n",
    "print(\"The 'c' element of \\\"my_series\\\": \", my_series.loc['c'])"
   ]
  },
  {
   "cell_type": "code",
   "execution_count": 2,
   "metadata": {},
   "outputs": [
    {
     "name": "stdout",
     "output_type": "stream",
     "text": [
      "my_dataframe: \n",
      "      col1  col2  col3\n",
      "row1     1     2     3\n",
      "row2     2     3     4\n",
      "row3     3     4     5\n",
      "access the data of 'col3': \n",
      "row1    3\n",
      "row2    4\n",
      "row3    5\n",
      "Name: col3, dtype: int32\n"
     ]
    }
   ],
   "source": [
    "# DataFrame in Pandas\n",
    "my_array_2D = np.array([[1, 2, 3], [2, 3, 4], [3, 4, 5]])\n",
    "\n",
    "row_index = ['row1', 'row2', 'row3']\n",
    "col_name = ['col1', 'col2', 'col3']\n",
    "\n",
    "my_dataframe = pd.DataFrame(my_array_2D, row_index, col_name)\n",
    "\n",
    "print(\"my_dataframe: \")\n",
    "print(my_dataframe)\n",
    "print(\"access the data of 'col3': \")\n",
    "print(my_dataframe['col3'])"
   ]
  }
 ],
 "metadata": {
  "kernelspec": {
   "display_name": "base",
   "language": "python",
   "name": "python3"
  },
  "language_info": {
   "codemirror_mode": {
    "name": "ipython",
    "version": 3
   },
   "file_extension": ".py",
   "mimetype": "text/x-python",
   "name": "python",
   "nbconvert_exporter": "python",
   "pygments_lexer": "ipython3",
   "version": "3.11.5"
  }
 },
 "nbformat": 4,
 "nbformat_minor": 2
}
