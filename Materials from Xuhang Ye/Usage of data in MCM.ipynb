{
 "cells": [
  {
   "cell_type": "markdown",
   "metadata": {},
   "source": [
    "# 美赛中的数据\n",
    "\n",
    "## 数据导入\n",
    "\n",
    "美赛（包括国赛）提供的数据通常以CSV文件（少数情况下是Excel）形式给出，当然很多情况下对于A, B题美赛是不提供数据的。对于CSV文件我们可以用`python`中的`numpy`或者`pandas`库来进行导入与处理。\n",
    "\n",
    "## 数据理解\n",
    "\n",
    "- 数据导入\n",
    "- 数据维度\n",
    "- **数据属性与类型**\n",
    "- **描述性统计**\n",
    "- **数据分组分布(分类算法)**\n",
    "- **数据属性相关性**\n",
    "- 数据分布分析\n",
    "\n",
    "## 数据可视化\n",
    "\n",
    "- 单一图表：直方图、 密度图、箱线图\n",
    "- 多重图表：相关矩阵图、散点矩阵图"
   ]
  },
  {
   "cell_type": "code",
   "execution_count": null,
   "metadata": {},
   "outputs": [],
   "source": [
    "# The import of data\n"
   ]
  }
 ],
 "metadata": {
  "language_info": {
   "name": "python"
  }
 },
 "nbformat": 4,
 "nbformat_minor": 2
}
