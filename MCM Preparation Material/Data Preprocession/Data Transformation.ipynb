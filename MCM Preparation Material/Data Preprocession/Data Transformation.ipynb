{
 "cells": [
  {
   "cell_type": "markdown",
   "metadata": {},
   "source": [
    "# 数据变换\n",
    "\n",
    "## 数据指标的一致化处理\n",
    "\n",
    "### 数据类型种类\n",
    "\n",
    "数据类型一般有以下几种：\n",
    "\n",
    "![Data Index](Data_Index.png)\n",
    "\n",
    "### 数据类型的一致化处理方法\n",
    "\n",
    "我们一般都选择将所有数据类型转化为极大型数据。\n",
    "\n",
    "1. **极小型数据的转换**：\n",
    "   - 这个转换方法针对的是极小型数据。原始数据 $ x $ 通过变换 $ x' = \\frac{1}{x} $（对于 $ x > 0 $）进行转换。这相当于取其倒数。另外，为了让转换后的数据有一个明确的范围，也可以通过 $ x' = M - x $ 进一步转换，其中 $ M $ 是某个预定的最大值。\n",
    "\n",
    "2. **中间型数据的转换**：\n",
    "   - 此方法适用于介于两个极值之间的中间型数据。通过 $ x' = 1 - \\frac{|x_i - x_{best}|}{\\max |x_i - x_{best}|} $ 这个式子进行转换，其中 $ x_{best} $ 代表最优值。\n",
    "3. **区间型数据的转换**：\n",
    "   - 对于区间型数据，采用分段函数进行转换：\n",
    "     $$\n",
    "     x' = \\begin{cases} \n",
    "     \\frac{a - x}{c}, & x < a \\\\\n",
    "     1, & a \\leq x \\leq b \\\\\n",
    "     \\frac{x - b}{c}, & x > b \n",
    "     \\end{cases}\n",
    "     $$\n",
    "     其中 $ a $ 和 $ b $ 定义了中间区间，$ c $ 是一个用于缩放的常数，计算方法为 $ c = \\max\\{a - m, M - b\\} $，$ M $ 和 $ m $ 分别是数据集中的最大值和最小值。\n",
    "\n",
    "这些转换技术的目的是将不同类型的数据转换为具有可比性的形式，使其适合于统计分析或机器学习模型。每种方法都有其特定的应用场景和优势。例如，取倒数可以放大小数值的差异，而分段函数可以在保留数据结构的同时，对数据进行归一化。"
   ]
  },
  {
   "cell_type": "markdown",
   "metadata": {},
   "source": [
    "## 数据指标的无量纲化处理\n",
    "\n",
    "无量纲化是将不同量纲或量级的指标转换为无量纲的纯数值，以便进行合理比较。常用于决策分析中的TOPSIS法（Technique for Order Preference by Similarity to Ideal Solution，即理想解排序法）\n",
    "\n",
    "### 无量纲化处理方法：\n",
    "\n",
    "1. **线性变换法（最大-最小规范化）**:\n",
    "   $$ b_{ij} = \\frac{a_{ij} - \\min_{i}(a_{ij})}{\\max_{i}(a_{ij}) - \\min_{i}(a_{ij})} $$\n",
    "   这种方法将原始数据线性变换到[0, 1]区间内。\n",
    "\n",
    "2. **反向线性变换法**:\n",
    "   $$ b_{ij} = \\frac{\\max_{i}(a_{ij}) - a_{ij}}{\\max_{i}(a_{ij}) - \\min_{i}(a_{ij})} $$\n",
    "   当原始数据越小越好时使用，也将数据变换到[0, 1]区间。\n",
    "\n",
    "3. **区间无量纲化法**:\n",
    "   对于不同的区间，使用不同的公式：\n",
    "   - 当 $ a_{ij} $ 在 $ [a_{j}^{(1)}, a_{j}^{0}) $ 时：\n",
    "        $$ b_{ij} = 1 - \\frac{a_{j}^{0} - a_{ij}}{a_{j}^{0} - a_{j}^{(1)}} $$\n",
    "   - 当 $ a_{ij} $ 在 $ [a_{j}^{0}, a_{j}^{*}] $ 时：\n",
    "        $$ b_{ij} = 1 $$\n",
    "   - 当 $ a_{ij} $ 在 $ (a_{j}^{*}, a_{j}^{(2)}] $ 时：\n",
    "        $$ b_{ij} = 1 - \\frac{a_{ij} - a_{j}^{*}}{a_{j}^{(2)} - a_{j}^{*}} $$\n",
    "   - 否则：\n",
    "        $$ b_{ij} = 0 $$\n",
    "   其中 $ a_{j}^{(1)} $ 和 $ a_{j}^{(2)} $ 分别是指标 $ j $ 的容忍区间下限和上限，而 $ a_{j}^{0} $ 和 $ a_{j}^{*} $ 是优劣区间的下限和上限。\n",
    "\n",
    "<p align = \"center\">\n",
    "  <img src=\"Original_Data.png\" alt=\"Original Data\">\n",
    "</p>"
   ]
  },
  {
   "cell_type": "code",
   "execution_count": 3,
   "metadata": {},
   "outputs": [
    {
     "name": "stdout",
     "output_type": "stream",
     "text": [
      "Min-Max Normalization: [0.000, 0.091, 0.273, 0.727, 1.000]\n",
      "Interval Normalization: [1.000, 1.000, 0.833, 0.333, 0.000]\n",
      "Reverse Min-Max Normalization: [0.521, 0.417, 0.312, 0.000, 1.000]\n",
      "Reverse Min-Max Normalization: [0.408, 0.224, 0.000, 0.898, 1.000]\n"
     ]
    }
   ],
   "source": [
    "# 无量纲化处理\n",
    "import numpy as np\n",
    "\n",
    "def print_formatted(array, description):\n",
    "    formatted_values = \", \".join([\"{:.3f}\".format(value) for value in array])\n",
    "    print(f\"{description}: [{formatted_values}]\")\n",
    "\n",
    "# 线性变换法\n",
    "def min_max_normalization(array):\n",
    "    return (array - np.min(array)) / (np.max(array) - np.min(array))\n",
    "\n",
    "# 反向线性变换法\n",
    "def reverse_min_max_normalization(array):\n",
    "    return (np.max(array) - array) / (np.max(array) - np.min(array))\n",
    "\n",
    "# 区间无量纲化法\n",
    "def interval_normalization(array, optimal_interval, tolerance_interval):\n",
    "    normalized_array = np.zeros_like(array)\n",
    "    for i, value in enumerate(array):\n",
    "        if tolerance_interval[0] <= value < optimal_interval[0]:\n",
    "            normalized_array[i] = 1 - (optimal_interval[0] - value) / (optimal_interval[0] - tolerance_interval[0])\n",
    "        elif optimal_interval[0] <= value <= optimal_interval[1]:\n",
    "            normalized_array[i] = 1\n",
    "        elif optimal_interval[1] < value <= tolerance_interval[1]:\n",
    "            normalized_array[i] = 1 - (value - optimal_interval[1]) / (tolerance_interval[1] - optimal_interval[1])\n",
    "        else:\n",
    "            normalized_array[i] = 0\n",
    "    return normalized_array\n",
    "\n",
    "# 示例数据\n",
    "A = np.array([\n",
    "    [0.1, 0.2, 0.4, 0.9, 1.2],\n",
    "    [5, 6, 7, 10, 2],\n",
    "    [5000, 6000, 7000, 10000, 400],\n",
    "    [4.7, 5.6, 6.7, 2.3, 1.8]\n",
    "]).T  # 转置以匹配列格式\n",
    "\n",
    "# 应用无量纲化方法\n",
    "b1 = min_max_normalization(A[:, 0])\n",
    "b2 = interval_normalization(A[:, 1], [5, 6], [2, 12])\n",
    "b3 = reverse_min_max_normalization(A[:, 2])\n",
    "b4 = reverse_min_max_normalization(A[:, 3])\n",
    "\n",
    "# 输出结果\n",
    "print_formatted(b1, \"Min-Max Normalization\")\n",
    "print_formatted(b2, \"Interval Normalization\")\n",
    "print_formatted(b3, \"Reverse Min-Max Normalization\")\n",
    "print_formatted(b4, \"Reverse Min-Max Normalization\")"
   ]
  },
  {
   "cell_type": "markdown",
   "metadata": {},
   "source": [
    "## 定性指标的量化处理\n",
    "\n"
   ]
  },
  {
   "cell_type": "code",
   "execution_count": 1,
   "metadata": {},
   "outputs": [
    {
     "name": "stdout",
     "output_type": "stream",
     "text": [
      "[[0.353 0.744 0.59  ... 0.501 0.234 0.483]\n",
      " [0.059 0.427 0.541 ... 0.396 0.117 0.167]\n",
      " [0.471 0.92  0.525 ... 0.347 0.254 0.183]\n",
      " ...\n",
      " [0.294 0.608 0.59  ... 0.39  0.071 0.15 ]\n",
      " [0.059 0.633 0.492 ... 0.449 0.116 0.433]\n",
      " [0.059 0.467 0.574 ... 0.453 0.101 0.033]]\n"
     ]
    }
   ],
   "source": [
    "# 归一化，使用MinMaxScaler(按比例缩放，less recommended)\n",
    "# K近邻算法\n",
    "from sklearn.preprocessing import MinMaxScaler\n",
    "from numpy import set_printoptions\n",
    "from pandas import read_csv\n",
    "\n",
    "filename = 'pima_data.csv'\n",
    "names = ['preg', 'plas', 'pres', 'skin', 'test', 'mass', 'pedi', 'age', 'class']\n",
    "data = read_csv(filename, names = names)\n",
    "\n",
    "array = data.values\n",
    "X = array[ : , 0 : 8]\n",
    "Y = array[ : , 8]\n",
    "transformer = MinMaxScaler(feature_range = (0, 1))\n",
    "newX = transformer.fit_transform(X)\n",
    "set_printoptions(precision = 3)\n",
    "print(newX)"
   ]
  }
 ],
 "metadata": {
  "kernelspec": {
   "display_name": "base",
   "language": "python",
   "name": "python3"
  },
  "language_info": {
   "codemirror_mode": {
    "name": "ipython",
    "version": 3
   },
   "file_extension": ".py",
   "mimetype": "text/x-python",
   "name": "python",
   "nbconvert_exporter": "python",
   "pygments_lexer": "ipython3",
   "version": "3.11.5"
  }
 },
 "nbformat": 4,
 "nbformat_minor": 2
}
