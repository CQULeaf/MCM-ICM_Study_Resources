{
 "cells": [
  {
   "cell_type": "markdown",
   "metadata": {},
   "source": [
    "# Self-learning Numpy\n",
    "\n",
    "## What's Numpy?\n",
    "\n",
    "NumPy is a powerful library for numerical computing in Python, offering support for ***arrays*** (including multidimensional arrays), as well as ***an assortment of mathematical functions*** to operate on these arrays. "
   ]
  },
  {
   "cell_type": "markdown",
   "metadata": {},
   "source": [
    "## The potential of Numpy\n",
    "\n",
    "The library's advantages might not be obvious if we're only working with small datasets or straightforward operations that we could manually code.\n",
    "\n",
    "However, as we progress in our data manipulation and scientific computing tasks, we'll likely find that NumPy offers several key benefits:\n",
    "\n",
    "1. **Efficiency**: NumPy is implemented in C and optimized for performance. It's generally ***much faster*** than native Python code for numerical operations.\n",
    "\n",
    "2. **Convenience**: NumPy provides ***a large library*** of built-in functions for mathematical computations, statistics, linear algebra, etc., making it easier to perform complex tasks without needing to write these algorithms from scratch.\n",
    "\n",
    "3. **Memory Efficiency**: NumPy arrays are ***more memory-efficient*** than native Python lists. This can be crucial when we're working with large datasets.\n",
    "\n",
    "4. **Broadcasting**: This feature enables NumPy to ***handle arrays with different shapes*** during arithmetic operations, which can reduce the need for explicit loops and make the code more readable and faster.\n",
    "\n",
    "5. **Ecosystem**: NumPy is ***fundamental to other Python libraries*** like pandas for data manipulation, matplotlib for plotting, and scikit-learn for machine learning. Knowledge of NumPy will be beneficial when diving into these areas.\n",
    "\n",
    "6. **Vectorization**: NumPy allows for ***vectorized operations***, meaning operations apply to entire arrays rather than element-by-element, leading to more concise and readable code.\n",
    "\n",
    "7. **Scientific Computing**: In fields like data science, machine learning, scientific research, and engineering, NumPy is practically the standard for numerical computations in Python.\n",
    "\n",
    "For instance, consider a case where you have to invert a large matrix, perform eigenvalue decompositions (特征值分解), or apply Fourier transformations (傅里叶变换). Doing this manually would require a significant amount of code and would not be as optimized. NumPy has built-in functions for these that are both convenient and efficient.\n",
    "\n",
    "So while you might not see the immediate benefit as a beginner, NumPy is a tool that becomes increasingly valuable as your tasks become more complex."
   ]
  },
  {
   "cell_type": "markdown",
   "metadata": {},
   "source": [
    "## Basic usage\n",
    "\n",
    "**Create Array and access it**"
   ]
  },
  {
   "cell_type": "code",
   "execution_count": 6,
   "metadata": {},
   "outputs": [
    {
     "name": "stdout",
     "output_type": "stream",
     "text": [
      "[1 2 3]\n",
      "(3,)\n",
      "3\n",
      "int32\n"
     ]
    }
   ],
   "source": [
    "import numpy as np  # 'np' is a commonly used alias for NumPy\n",
    "\n",
    "# Creating a 1D array\n",
    "a = np.array([1, 2, 3])\n",
    "\n",
    "# Print the array\n",
    "print(a)\n",
    "\n",
    "# Print shape of array\n",
    "print(a.shape)\n",
    "\n",
    "# Print size of array\n",
    "print(a.size)\n",
    "\n",
    "# Print data type of array\n",
    "print(a.dtype)"
   ]
  },
  {
   "cell_type": "code",
   "execution_count": 15,
   "metadata": {},
   "outputs": [
    {
     "name": "stdout",
     "output_type": "stream",
     "text": [
      "(3, 4)\n",
      "12\n",
      "The last row :[ 9 10 11 12]\n",
      "2\n",
      "[[1 2]\n",
      " [5 6]]\n",
      "[ 1  2  3  4  5  6  7  8  9 10 11 12]\n"
     ]
    }
   ],
   "source": [
    "# Create a 2D array with 3 rows and 4 columns\n",
    "arr = np.array([[1, 2, 3, 4], [5, 6, 7, 8], [9, 10, 11, 12]])\n",
    "\n",
    "# Display its shape\n",
    "print(arr.shape)\n",
    "\n",
    "# Display its size\n",
    "print(arr.size)\n",
    "\n",
    "# Access data\n",
    "print(\"The last row :{}\".format(arr[-1]))\n",
    "\n",
    "# Indexing: Get the element in the first row and second column\n",
    "print(arr[0, 1])\n",
    "\n",
    "# Slicing: Get the first two rows and first two columns\n",
    "print(arr[:2, :2]) \n",
    "\n",
    "# Reshape into a 1D array and display it\n",
    "print(arr.reshape(-1))"
   ]
  },
  {
   "cell_type": "markdown",
   "metadata": {},
   "source": [
    "**Manipulate array**"
   ]
  },
  {
   "cell_type": "code",
   "execution_count": 17,
   "metadata": {},
   "outputs": [
    {
     "name": "stdout",
     "output_type": "stream",
     "text": [
      "Broadcasting result: [[ 2  3  4  5]\n",
      " [ 6  7  8  9]\n",
      " [10 11 12 13]]\n",
      "Summed result: [15 18 21 24]\n",
      "Meaned result: [ 2.5  6.5 10.5]\n",
      "Vstacked result: [[ 1  2  3  4]\n",
      " [ 5  6  7  8]\n",
      " [ 9 10 11 12]\n",
      " [ 1  2  3  4]\n",
      " [ 5  6  7  8]\n",
      " [ 9 10 11 12]]\n",
      "hstacked result: [[ 1  2  3  4  1  2  3  4]\n",
      " [ 5  6  7  8  5  6  7  8]\n",
      " [ 9 10 11 12  9 10 11 12]]\n"
     ]
    }
   ],
   "source": [
    "# Broadcasting: Add 1 to each element of the array\n",
    "broadcasted = arr + 1\n",
    "print(f\"Broadcasting result: {broadcasted}\")\n",
    "\n",
    "# Sum along axis=0 (sum of each column)\n",
    "sum_axis_0 = np.sum(arr, axis=0)\n",
    "print(f\"Summed result: {sum_axis_0}\")\n",
    "\n",
    "# Mean along axis=1 (mean of each row)\n",
    "mean_axis_1 = np.mean(arr, axis=1)\n",
    "print(f\"Meaned result: {mean_axis_1}\")\n",
    "\n",
    "# Vertical stack\n",
    "vstacked = np.vstack((arr, arr))\n",
    "print(f\"Vstacked result: {vstacked}\")\n",
    "\n",
    "# Horizontal stack\n",
    "hstacked = np.hstack((arr, arr))\n",
    "print(f\"hstacked result: {hstacked}\")"
   ]
  },
  {
   "cell_type": "markdown",
   "metadata": {},
   "source": [
    "### Talk about something feathers of numpy's syntax\n",
    "\n",
    "#### Axis\n",
    "\n",
    "The term \"axis\" (`轴`) in NumPy refers to the dimensions of the array. For example, in a 2D array (often thought of as a matrix), you have two axes: \n",
    "\n",
    "- `axis=0`: This axis runs vertically downward across rows. When you perform an operation along this axis, it acts \"column-wise.\"\n",
    "- `axis=1`: This axis runs horizontally across columns. When you perform an operation along this axis, it acts \"row-wise.\"\n",
    "\n",
    "When you perform operations like summing or finding the mean along a specific axis, NumPy will collapse that axis by applying the specified operation. \n",
    "\n",
    "For instance, if you sum along `axis=0`, NumPy will sum the values in each column together, effectively \"collapsing\" the array along its vertical axis.\n",
    "\n",
    "#### V/H stack\n",
    "\n",
    "In NumPy, the `vstack` and `hstack` functions are used to stack arrays vertically and horizontally, respectively.\n",
    "\n",
    "##### Vertical Stack\n",
    "The `np.vstack` function takes a sequence (usually a tuple or list) of arrays and stacks them vertically, i.e., along `axis=0`.\n",
    "\n",
    "**Syntax:**\n",
    "```python\n",
    "np.vstack((array1, array2, ..., arrayN))\n",
    "```\n",
    "\n",
    "**Example:**\n",
    "```python\n",
    "import numpy as np\n",
    "a = np.array([1, 2, 3])\n",
    "b = np.array([4, 5, 6])\n",
    "result = np.vstack((a, b))\n",
    "```\n",
    "`result` will be:\n",
    "```\n",
    "[[1, 2, 3],\n",
    " [4, 5, 6]]\n",
    "```\n",
    "\n",
    "##### Horizontal Stack\n",
    "The `np.hstack` function takes a sequence (usually a tuple or list) of arrays and stacks them horizontally, i.e., along `axis=1`.\n",
    "\n",
    "**Syntax:**\n",
    "```python\n",
    "np.hstack((array1, array2, ..., arrayN))\n",
    "```\n",
    "\n",
    "**Example:**\n",
    "```python\n",
    "import numpy as np\n",
    "a = np.array([1, 2, 3])\n",
    "b = np.array([4, 5, 6])\n",
    "result = np.hstack((a, b))\n",
    "```\n",
    "`result` will be:\n",
    "```\n",
    "[1, 2, 3, 4, 5, 6]\n",
    "```\n",
    "\n",
    "###### Note:\n",
    "- For `vstack`, the number of columns in each array should be the same.\n",
    "- For `hstack`, the number of rows in each array should be the same."
   ]
  }
 ],
 "metadata": {
  "kernelspec": {
   "display_name": "ldm",
   "language": "python",
   "name": "python3"
  },
  "language_info": {
   "codemirror_mode": {
    "name": "ipython",
    "version": 3
   },
   "file_extension": ".py",
   "mimetype": "text/x-python",
   "name": "python",
   "nbconvert_exporter": "python",
   "pygments_lexer": "ipython3",
   "version": "3.11.5"
  }
 },
 "nbformat": 4,
 "nbformat_minor": 2
}
